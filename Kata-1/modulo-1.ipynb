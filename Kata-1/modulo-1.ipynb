{
 "cells": [
  {
   "cell_type": "markdown",
   "metadata": {},
   "source": [
    "# Tu primer programa\n",
    "\n",
    "Código para mostrar la fecha de hoy."
   ]
  },
  {
   "cell_type": "code",
   "execution_count": 1,
   "metadata": {},
   "outputs": [
    {
     "name": "stdout",
     "output_type": "stream",
     "text": [
      "Today's date is: 2022-02-05\n"
     ]
    }
   ],
   "source": [
    "from datetime import date\n",
    "\n",
    "print(\"Today's date is: \" + str(date.today()))"
   ]
  },
  {
   "cell_type": "markdown",
   "metadata": {},
   "source": [
    "# Convertidor de unidades\n",
    "\n",
    "Convierte cualquier cantidad de parsecs introducida por el usuario  y la convierte a años luz."
   ]
  },
  {
   "cell_type": "code",
   "execution_count": 2,
   "metadata": {},
   "outputs": [
    {
     "name": "stdout",
     "output_type": "stream",
     "text": [
      "17.0 parsec, is 55.44652 lightyears\n"
     ]
    }
   ],
   "source": [
    "parsec = float(input(\"Introduce number of parsecs to convert\"))\n",
    "\n",
    "lightyears = parsec * 3.26156\n",
    "\n",
    "print(str(parsec) + \" parsec, is \" + str(lightyears) + \" lightyears\")"
   ]
  },
  {
   "cell_type": "code",
   "execution_count": 3,
   "metadata": {},
   "outputs": [
    {
     "name": "stdout",
     "output_type": "stream",
     "text": [
      "55.44652 lightyear, is 17.0 parsec\n"
     ]
    }
   ],
   "source": [
    "lightyears = float(input(\"Introduce number of lightyears to convert\"))\n",
    "\n",
    "parsec = lightyears / 3.26156\n",
    "\n",
    "print(str(lightyears) + \" lightyear, is \" + str(parsec) + \" parsec\")"
   ]
  }
 ],
 "metadata": {
  "interpreter": {
   "hash": "56b435c5857595d239cc6ea193352b41e48dd60dcf9b18ee2cabfe957593b84b"
  },
  "kernelspec": {
   "display_name": "Python 3.10.2 64-bit",
   "language": "python",
   "name": "python3"
  },
  "language_info": {
   "codemirror_mode": {
    "name": "ipython",
    "version": 3
   },
   "file_extension": ".py",
   "mimetype": "text/x-python",
   "name": "python",
   "nbconvert_exporter": "python",
   "pygments_lexer": "ipython3",
   "version": "3.10.2"
  },
  "orig_nbformat": 4
 },
 "nbformat": 4,
 "nbformat_minor": 2
}
