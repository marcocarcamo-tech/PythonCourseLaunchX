{
 "cells": [
  {
   "cell_type": "markdown",
   "metadata": {},
   "source": [
    "# Ejercicio 1 - Declaraciones if, else y elif\n",
    "\n",
    "- Añadir el código necesario para crear una variable que guarde la velocidad del asteroide.\n",
    "- Escribe una expresión de prueba para calcular si necesita una advertencia.\n",
    "- Agregue las instrucciones que se ejecutarán si la expresión de prueba es true"
   ]
  },
  {
   "cell_type": "code",
   "execution_count": 1,
   "metadata": {},
   "outputs": [
    {
     "name": "stdout",
     "output_type": "stream",
     "text": [
      "Speed of asteroid is increasing\n"
     ]
    }
   ],
   "source": [
    "\n",
    "asteroidSpeed = 49\n",
    "\n",
    "if asteroidSpeed > 25:\n",
    "    print(\"Speed of asteroid is increasing\")\n",
    "else:\n",
    "    print(\"Speed of asteroid is under danger point\")\n"
   ]
  },
  {
   "cell_type": "markdown",
   "metadata": {},
   "source": [
    "- Agrega el código para crear una variable para un asteroide que viaja a 19 km/s\n",
    "- Escribe varias expresiones de prueba para determinar si puedes ver el rayo de luz desde la tierra\n",
    "- Agrega las instrucciones que se ejecutarán si las expresiones de prueba son True o False"
   ]
  },
  {
   "cell_type": "code",
   "execution_count": null,
   "metadata": {},
   "outputs": [],
   "source": [
    "asteroid2Speed = 19\n",
    "\n",
    "if asteroid2Speed > 20:\n",
    "    print(\"Visible light ray, look up for the ray!\")\n",
    "elif asteroid2Speed == 20:\n",
    "    print(\"Visible light ray, look up for ray\")\n",
    "else:\n",
    "    print (\"Nothing visible, situation under control\")\n"
   ]
  },
  {
   "cell_type": "markdown",
   "metadata": {},
   "source": [
    "# Ejercicio 2 - Operadores and or"
   ]
  },
  {
   "cell_type": "markdown",
   "metadata": {},
   "source": [
    "- Agrega el código para crear nuevas variables para la velocidad y el tamaño del asteroide\n",
    "- Para probar el código, prueba con varias velocidades y tamaños\n",
    "- Escribe varias expresiones de prueba o combinaciones de expresiones de prueba para determinar "
   ]
  },
  {
   "cell_type": "code",
   "execution_count": 16,
   "metadata": {},
   "outputs": [
    {
     "name": "stdout",
     "output_type": "stream",
     "text": [
      "Low speed but big asteroid, potentially dangerous. Not visible.\n"
     ]
    }
   ],
   "source": [
    "asteroidSize = 26\n",
    "asteroidSpeed = 24\n",
    "hasReachAtmosphere = False;\n",
    "\n",
    "if asteroidSpeed > 25:\n",
    "    #Every speed above 25 need a warning\n",
    "    if asteroidSize < 25:\n",
    "        print(\"The asteroid will disintegrate, no danger\")\n",
    "    elif asteroidSize > 25:\n",
    "        print(\"Ateroid impact will be critical\")\n",
    "    elif asteroidSpeed > 20 and hasReachAtmosphere == True:\n",
    "        print(\"Asteroid visible, look for light ray in the sky\")\n",
    "elif asteroidSpeed < 25:\n",
    "    if asteroidSize > 25 and hasReachAtmosphere == False: \n",
    "        print(\"Low speed but big asteroid, potentially dangerous. Not visible.\")\n",
    "    elif asteroidSize > 25 and hasReachAtmosphere == True:\n",
    "        print(\"Low speed but big asteroid, hight danger. Is visible\")\n",
    "    else:\n",
    "        print(\"No warning needed\")\n"
   ]
  }
 ],
 "metadata": {
  "interpreter": {
   "hash": "56b435c5857595d239cc6ea193352b41e48dd60dcf9b18ee2cabfe957593b84b"
  },
  "kernelspec": {
   "display_name": "Python 3.10.2 64-bit",
   "language": "python",
   "name": "python3"
  },
  "language_info": {
   "codemirror_mode": {
    "name": "ipython",
    "version": 3
   },
   "file_extension": ".py",
   "mimetype": "text/x-python",
   "name": "python",
   "nbconvert_exporter": "python",
   "pygments_lexer": "ipython3",
   "version": "3.10.2"
  },
  "orig_nbformat": 4
 },
 "nbformat": 4,
 "nbformat_minor": 2
}
